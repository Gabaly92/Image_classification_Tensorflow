{
 "cells": [
  {
   "cell_type": "markdown",
   "metadata": {
    "collapsed": true,
    "deletable": true,
    "editable": true
   },
   "source": [
    "# Image Classification\n",
    "In this project, you'll classify images from the [CIFAR-10 dataset](https://www.cs.toronto.edu/~kriz/cifar.html).  The dataset consists of airplanes, dogs, cats, and other objects. You'll preprocess the images, then train a convolutional neural network on all the samples. The images need to be normalized and the labels need to be one-hot encoded.  You'll get to apply what you learned and build a convolutional, max pooling, dropout, and fully connected layers.  At the end, you'll get to see your neural network's predictions on the sample images.\n",
    "## Get the Data\n",
    "Run the following cell to download the [CIFAR-10 dataset for python](https://www.cs.toronto.edu/~kriz/cifar-10-python.tar.gz)."
   ]
  },
  {
   "cell_type": "code",
   "execution_count": 1,
   "metadata": {
    "collapsed": false,
    "deletable": true,
    "editable": true
   },
   "outputs": [
    {
     "name": "stdout",
     "output_type": "stream",
     "text": [
      "All files found!\n"
     ]
    }
   ],
   "source": [
    "\"\"\"\n",
    "DON'T MODIFY ANYTHING IN THIS CELL THAT IS BELOW THIS LINE\n",
    "\"\"\"\n",
    "from urllib.request import urlretrieve\n",
    "from os.path import isfile, isdir\n",
    "from tqdm import tqdm\n",
    "import problem_unittests as tests\n",
    "import tarfile\n",
    "\n",
    "cifar10_dataset_folder_path = 'cifar-10-batches-py'\n",
    "\n",
    "class DLProgress(tqdm):\n",
    "    last_block = 0\n",
    "\n",
    "    def hook(self, block_num=1, block_size=1, total_size=None):\n",
    "        self.total = total_size\n",
    "        self.update((block_num - self.last_block) * block_size)\n",
    "        self.last_block = block_num\n",
    "\n",
    "if not isfile('cifar-10-python.tar.gz'):\n",
    "    with DLProgress(unit='B', unit_scale=True, miniters=1, desc='CIFAR-10 Dataset') as pbar:\n",
    "        urlretrieve(\n",
    "            'https://www.cs.toronto.edu/~kriz/cifar-10-python.tar.gz',\n",
    "            'cifar-10-python.tar.gz',\n",
    "            pbar.hook)\n",
    "\n",
    "if not isdir(cifar10_dataset_folder_path):\n",
    "    with tarfile.open('cifar-10-python.tar.gz') as tar:\n",
    "        tar.extractall()\n",
    "        tar.close()\n",
    "\n",
    "\n",
    "tests.test_folder_path(cifar10_dataset_folder_path)"
   ]
  },
  {
   "cell_type": "markdown",
   "metadata": {
    "deletable": true,
    "editable": true
   },
   "source": [
    "## Explore the Data\n",
    "The dataset is broken into batches to prevent your machine from running out of memory.  The CIFAR-10 dataset consists of 5 batches, named `data_batch_1`, `data_batch_2`, etc.. Each batch contains the labels and images that are one of the following:\n",
    "* airplane\n",
    "* automobile\n",
    "* bird\n",
    "* cat\n",
    "* deer\n",
    "* dog\n",
    "* frog\n",
    "* horse\n",
    "* ship\n",
    "* truck\n",
    "\n",
    "Understanding a dataset is part of making predictions on the data.  Play around with the code cell below by changing the `batch_id` and `sample_id`. The `batch_id` is the id for a batch (1-5). The `sample_id` is the id for a image and label pair in the batch.\n",
    "\n",
    "Ask yourself \"What are all possible labels?\", \"What is the range of values for the image data?\", \"Are the labels in order or random?\".  Answers to questions like these will help you preprocess the data and end up with better predictions."
   ]
  },
  {
   "cell_type": "code",
   "execution_count": 2,
   "metadata": {
    "collapsed": false,
    "deletable": true,
    "editable": true
   },
   "outputs": [
    {
     "name": "stdout",
     "output_type": "stream",
     "text": [
      "\n",
      "Stats of batch 1:\n",
      "Samples: 10000\n",
      "Label Counts: {0: 1005, 1: 974, 2: 1032, 3: 1016, 4: 999, 5: 937, 6: 1030, 7: 1001, 8: 1025, 9: 981}\n",
      "First 20 Labels: [6, 9, 9, 4, 1, 1, 2, 7, 8, 3, 4, 7, 7, 2, 9, 9, 9, 3, 2, 6]\n",
      "\n",
      "Example of Image 42:\n",
      "Image - Min Value: 28 Max Value: 192\n",
      "Image - Shape: (32, 32, 3)\n",
      "Label - Label Id: 2 Name: bird\n"
     ]
    },
    {
     "data": {
      "image/png": "[encoded data removed]",
      "text/plain": [
       "<matplotlib.figure.Figure at 0x110a1dac8>"
      ]
     },
     "metadata": {
      "image/png": {
       "height": 250,
       "width": 253
      }
     },
     "output_type": "display_data"
    }
   ],
   "source": [
    "%matplotlib inline\n",
    "%config InlineBackend.figure_format = 'retina'\n",
    "\n",
    "import helper\n",
    "import numpy as np\n",
    "\n",
    "# Explore the dataset\n",
    "batch_id = 1\n",
    "sample_id = 42\n",
    "helper.display_stats(cifar10_dataset_folder_path, batch_id, sample_id)"
   ]
  },
  {
   "cell_type": "markdown",
   "metadata": {
    "deletable": true,
    "editable": true
   },
   "source": [
    "## Implement Preprocess Functions\n",
    "### Normalize\n",
    "In the cell below, implement the `normalize` function to take in image data, `x`, and return it as a normalized Numpy array. The values should be in the range of 0 to 1, inclusive.  The return object should be the same shape as `x`."
   ]
  },
  {
   "cell_type": "code",
   "execution_count": 13,
   "metadata": {
    "collapsed": false,
    "deletable": true,
    "editable": true
   },
   "outputs": [
    {
     "name": "stdout",
     "output_type": "stream",
     "text": [
      "Tests Passed\n"
     ]
    }
   ],
   "source": [
    "def normalize(x):\n",
    "    \"\"\"\n",
    "    Normalize a list of sample image data in the range of 0 to 1\n",
    "    : x: List of image data.  The image shape is (32, 32, 3)\n",
    "    : return: Numpy array of normalize data\n",
    "    \"\"\"\n",
    "    # TODO: Implement Function\n",
    "    return x/255\n",
    "\n",
    "\"\"\"\n",
    "DON'T MODIFY ANYTHING IN THIS CELL THAT IS BELOW THIS LINE\n",
    "\"\"\"\n",
    "tests.test_normalize(normalize)"
   ]
  },
  {
   "cell_type": "markdown",
   "metadata": {
    "deletable": true,
    "editable": true
   },
   "source": [
    "### One-hot encode\n",
    "Just like the previous code cell, you'll be implementing a function for preprocessing.  This time, you'll implement the `one_hot_encode` function. The input, `x`, are a list of labels.  Implement the function to return the list of labels as One-Hot encoded Numpy array.  The possible values for labels are 0 to 9. The one-hot encoding function should return the same encoding for each value between each call to `one_hot_encode`.  Make sure to save the map of encodings outside the function.\n",
    "\n",
    "**Hint:**\n",
    "\n",
    "Look into LabelBinarizer in the preprocessing module of sklearn."
   ]
  },
  {
   "cell_type": "code",
   "execution_count": 18,
   "metadata": {
    "collapsed": false,
    "deletable": true,
    "editable": true
   },
   "outputs": [
    {
     "name": "stdout",
     "output_type": "stream",
     "text": [
      "Tests Passed\n"
     ]
    }
   ],
   "source": [
    "import sklearn.preprocessing as prp\n",
    "\n",
    "def one_hot_encode(x):\n",
    "    \"\"\"\n",
    "    One hot encode a list of sample labels. Return a one-hot encoded vector for each label.\n",
    "    : x: List of sample Labels\n",
    "    : return: Numpy array of one-hot encoded labels\n",
    "    \"\"\"\n",
    "    # TODO: Implement Function\n",
    "    one_hot_encoder = prp.LabelBinarizer()\n",
    "    one_hot_encoder.fit_transform(range(max(x)+1))\n",
    "    one_hot_encoded_x = one_hot_encoder.transform(x)\n",
    "    return one_hot_encoded_x\n",
    "\"\"\"\n",
    "DON'T MODIFY ANYTHING IN THIS CELL THAT IS BELOW THIS LINE\n",
    "\"\"\"\n",
    "tests.test_one_hot_encode(one_hot_encode)"
   ]
  },
  {
   "cell_type": "markdown",
   "metadata": {
    "deletable": true,
    "editable": true
   },
   "source": [
    "### Randomize Data\n",
    "As you saw from exploring the data above, the order of the samples are randomized.  It doesn't hurt to randomize it again, but you don't need to for this dataset."
   ]
  },
  {
   "cell_type": "markdown",
   "metadata": {
    "deletable": true,
    "editable": true
   },
   "source": [
    "## Preprocess all the data and save it\n",
    "Running the code cell below will preprocess all the CIFAR-10 data and save it to file. The code below also uses 10% of the training data for validation."
   ]
  },
  {
   "cell_type": "code",
   "execution_count": 19,
   "metadata": {
    "collapsed": false,
    "deletable": true,
    "editable": true
   },
   "outputs": [],
   "source": [
    "\"\"\"\n",
    "DON'T MODIFY ANYTHING IN THIS CELL\n",
    "\"\"\"\n",
    "# Preprocess Training, Validation, and Testing Data\n",
    "helper.preprocess_and_save_data(cifar10_dataset_folder_path, normalize, one_hot_encode)"
   ]
  },
  {
   "cell_type": "markdown",
   "metadata": {
    "deletable": true,
    "editable": true
   },
   "source": [
    "# Check Point\n",
    "This is your first checkpoint.  If you ever decide to come back to this notebook or have to restart the notebook, you can start from here.  The preprocessed data has been saved to disk."
   ]
  },
  {
   "cell_type": "code",
   "execution_count": 20,
   "metadata": {
    "collapsed": true,
    "deletable": true,
    "editable": true
   },
   "outputs": [],
   "source": [
    "\"\"\"\n",
    "DON'T MODIFY ANYTHING IN THIS CELL\n",
    "\"\"\"\n",
    "import pickle\n",
    "import problem_unittests as tests\n",
    "import helper\n",
    "\n",
    "# Load the Preprocessed Validation data\n",
    "valid_features, valid_labels = pickle.load(open('preprocess_validation.p', mode='rb'))"
   ]
  },
  {
   "cell_type": "markdown",
   "metadata": {
    "deletable": true,
    "editable": true
   },
   "source": [
    "## Build the network\n",
    "For the neural network, you'll build each layer into a function.  Most of the code you've seen has been outside of functions. To test your code more thoroughly, we require that you put each layer in a function.  This allows us to give you better feedback and test for simple mistakes using our unittests before you submit your project.\n",
    "\n",
    ">**Note:** If you're finding it hard to dedicate enough time for this course each week, we've provided a small shortcut to this part of the project. In the next couple of problems, you'll have the option to use classes from the [TensorFlow Layers](https://www.tensorflow.org/api_docs/python/tf/layers) or [TensorFlow Layers (contrib)](https://www.tensorflow.org/api_guides/python/contrib.layers) packages to build each layer, except the layers you build in the \"Convolutional and Max Pooling Layer\" section.  TF Layers is similar to Keras's and TFLearn's abstraction to layers, so it's easy to pickup.\n",
    "\n",
    ">However, if you would like to get the most out of this course, try to solve all the problems _without_ using anything from the TF Layers packages. You **can** still use classes from other packages that happen to have the same name as ones you find in TF Layers! For example, instead of using the TF Layers version of the `conv2d` class, [tf.layers.conv2d](https://www.tensorflow.org/api_docs/python/tf/layers/conv2d), you would want to use the TF Neural Network version of `conv2d`, [tf.nn.conv2d](https://www.tensorflow.org/api_docs/python/tf/nn/conv2d). \n",
    "\n",
    "Let's begin!\n",
    "\n",
    "### Input\n",
    "The neural network needs to read the image data, one-hot encoded labels, and dropout keep probability. Implement the following functions\n",
    "* Implement `neural_net_image_input`\n",
    " * Return a [TF Placeholder](https://www.tensorflow.org/api_docs/python/tf/placeholder)\n",
    " * Set the shape using `image_shape` with batch size set to `None`.\n",
    " * Name the TensorFlow placeholder \"x\" using the TensorFlow `name` parameter in the [TF Placeholder](https://www.tensorflow.org/api_docs/python/tf/placeholder).\n",
    "* Implement `neural_net_label_input`\n",
    " * Return a [TF Placeholder](https://www.tensorflow.org/api_docs/python/tf/placeholder)\n",
    " * Set the shape using `n_classes` with batch size set to `None`.\n",
    " * Name the TensorFlow placeholder \"y\" using the TensorFlow `name` parameter in the [TF Placeholder](https://www.tensorflow.org/api_docs/python/tf/placeholder).\n",
    "* Implement `neural_net_keep_prob_input`\n",
    " * Return a [TF Placeholder](https://www.tensorflow.org/api_docs/python/tf/placeholder) for dropout keep probability.\n",
    " * Name the TensorFlow placeholder \"keep_prob\" using the TensorFlow `name` parameter in the [TF Placeholder](https://www.tensorflow.org/api_docs/python/tf/placeholder).\n",
    "\n",
    "These names will be used at the end of the project to load your saved model.\n",
    "\n",
    "Note: `None` for shapes in TensorFlow allow for a dynamic size."
   ]
  },
  {
   "cell_type": "code",
   "execution_count": 26,
   "metadata": {
    "collapsed": false,
    "deletable": true,
    "editable": true
   },
   "outputs": [
    {
     "name": "stdout",
     "output_type": "stream",
     "text": [
      "Image Input Tests Passed.\n",
      "Label Input Tests Passed.\n",
      "Keep Prob Tests Passed.\n"
     ]
    }
   ],
   "source": [
    "import tensorflow as tf\n",
    "\n",
    "def neural_net_image_input(image_shape):\n",
    "    \"\"\"\n",
    "    Return a Tensor for a batch of image input\n",
    "    : image_shape: Shape of the images\n",
    "    : return: Tensor for image input.\n",
    "    \"\"\"\n",
    "    # TODO: Implement Function\n",
    "    return tf.placeholder(tf.float32, [None, image_shape[0],image_shape[1],image_shape[2]], name='x')\n",
    "\n",
    "\n",
    "def neural_net_label_input(n_classes):\n",
    "    \"\"\"\n",
    "    Return a Tensor for a batch of label input\n",
    "    : n_classes: Number of classes\n",
    "    : return: Tensor for label input.\n",
    "    \"\"\"\n",
    "    # TODO: Implement Function\n",
    "    return tf.placeholder(tf.float32, [None, n_classes], name='y')\n",
    "\n",
    "\n",
    "def neural_net_keep_prob_input():\n",
    "    \"\"\"\n",
    "    Return a Tensor for keep probability\n",
    "    : return: Tensor for keep probability.\n",
    "    \"\"\"\n",
    "    # TODO: Implement Function\n",
    "    return tf.placeholder(tf.float32, name='keep_prob')\n",
    "\n",
    "\n",
    "\"\"\"\n",
    "DON'T MODIFY ANYTHING IN THIS CELL THAT IS BELOW THIS LINE\n",
    "\"\"\"\n",
    "tf.reset_default_graph()\n",
    "tests.test_nn_image_inputs(neural_net_image_input)\n",
    "tests.test_nn_label_inputs(neural_net_label_input)\n",
    "tests.test_nn_keep_prob_inputs(neural_net_keep_prob_input)"
   ]
  },
  {
   "cell_type": "markdown",
   "metadata": {
    "deletable": true,
    "editable": true
   },
   "source": [
    "### Convolution and Max Pooling Layer\n",
    "Convolution layers have a lot of success with images. For this code cell, you should implement the function `conv2d_maxpool` to apply convolution then max pooling:\n",
    "* Create the weight and bias using `conv_ksize`, `conv_num_outputs` and the shape of `x_tensor`.\n",
    "* Apply a convolution to `x_tensor` using weight and `conv_strides`.\n",
    " * We recommend you use same padding, but you're welcome to use any padding.\n",
    "* Add bias\n",
    "* Add a nonlinear activation to the convolution.\n",
    "* Apply Max Pooling using `pool_ksize` and `pool_strides`.\n",
    " * We recommend you use same padding, but you're welcome to use any padding.\n",
    "\n",
    "**Note:** You **can't** use [TensorFlow Layers](https://www.tensorflow.org/api_docs/python/tf/layers) or [TensorFlow Layers (contrib)](https://www.tensorflow.org/api_guides/python/contrib.layers) for **this** layer, but you can still use TensorFlow's [Neural Network](https://www.tensorflow.org/api_docs/python/tf/nn) package. You may still use the shortcut option for all the **other** layers.\n",
    "\n",
    "** Hint: **\n",
    "\n",
    "When unpacking values as an argument in Python, look into the [unpacking](https://docs.python.org/3/tutorial/controlflow.html#unpacking-argument-lists) operator. "
   ]
  },
  {
   "cell_type": "code",
   "execution_count": 28,
   "metadata": {
    "collapsed": false,
    "deletable": true,
    "editable": true
   },
   "outputs": [
    {
     "name": "stdout",
     "output_type": "stream",
     "text": [
      "Tests Passed\n"
     ]
    }
   ],
   "source": [
    "def conv2d_maxpool(x_tensor, conv_num_outputs, conv_ksize, conv_strides, pool_ksize, pool_strides):\n",
    "    \"\"\"\n",
    "    Apply convolution then max pooling to x_tensor\n",
    "    :param x_tensor: TensorFlow Tensor\n",
    "    :param conv_num_outputs: Number of outputs for the convolutional layer\n",
    "    :param conv_ksize: kernal size 2-D Tuple for the convolutional layer\n",
    "    :param conv_strides: Stride 2-D Tuple for convolution\n",
    "    :param pool_ksize: kernal size 2-D Tuple for pool\n",
    "    :param pool_strides: Stride 2-D Tuple for pool\n",
    "    : return: A tensor that represents convolution and max pooling of x_tensor\n",
    "    \"\"\"\n",
    "    # TODO: Implement Function\n",
    "    weight = tf.Variable(tf.random_normal([conv_ksize[0], conv_ksize[1], x_tensor.get_shape().as_list()[-1],\n",
    "                                            conv_num_outputs],stddev=0.1))\n",
    "    bias = tf.Variable(tf.zeros(conv_num_outputs, dtype=tf.float32))\n",
    "    conv_layer = tf.nn.conv2d(x_tensor, weight, strides=[1, conv_strides[0], conv_strides[1], 1], padding='SAME')\n",
    "    conv_layer = tf.nn.bias_add(conv_layer, bias)\n",
    "    conv_layer = tf.nn.relu(conv_layer)\n",
    "    conv_layer = tf.nn.max_pool(conv_layer, ksize=[1, pool_ksize[0], pool_ksize[1], 1], \n",
    "                                strides=[1, pool_strides[0], pool_strides[1], 1], padding='SAME')\n",
    "    return conv_layer\n",
    "\"\"\"\n",
    "DON'T MODIFY ANYTHING IN THIS CELL THAT IS BELOW THIS LINE\n",
    "\"\"\"\n",
    "tests.test_con_pool(conv2d_maxpool)"
   ]
  },
  {
   "cell_type": "markdown",
   "metadata": {
    "deletable": true,
    "editable": true
   },
   "source": [
    "### Flatten Layer\n",
    "Implement the `flatten` function to change the dimension of `x_tensor` from a 4-D tensor to a 2-D tensor.  The output should be the shape (*Batch Size*, *Flattened Image Size*). Shortcut option: you can use classes from the [TensorFlow Layers](https://www.tensorflow.org/api_docs/python/tf/layers) or [TensorFlow Layers (contrib)](https://www.tensorflow.org/api_guides/python/contrib.layers) packages for this layer. For more of a challenge, only use other TensorFlow packages."
   ]
  },
  {
   "cell_type": "code",
   "execution_count": 29,
   "metadata": {
    "collapsed": false,
    "deletable": true,
    "editable": true
   },
   "outputs": [
    {
     "name": "stdout",
     "output_type": "stream",
     "text": [
      "Tests Passed\n"
     ]
    }
   ],
   "source": [
    "def flatten(x_tensor):\n",
    "    \"\"\"\n",
    "    Flatten x_tensor to (Batch Size, Flattened Image Size)\n",
    "    : x_tensor: A tensor of size (Batch Size, ...), where ... are the image dimensions.\n",
    "    : return: A tensor of size (Batch Size, Flattened Image Size).\n",
    "    \"\"\"\n",
    "    # TODO: Implement Function\n",
    "    tensor_shape = x_tensor.get_shape().as_list()\n",
    "    flattened_shape = np.array(tensor_shape[1:]).prod()\n",
    "    return tf.reshape(x_tensor, [tf.shape(x_tensor)[0], flattened_shape])\n",
    "\"\"\"\n",
    "DON'T MODIFY ANYTHING IN THIS CELL THAT IS BELOW THIS LINE\n",
    "\"\"\"\n",
    "tests.test_flatten(flatten)"
   ]
  },
  {
   "cell_type": "markdown",
   "metadata": {
    "deletable": true,
    "editable": true
   },
   "source": [
    "### Fully-Connected Layer\n",
    "Implement the `fully_conn` function to apply a fully connected layer to `x_tensor` with the shape (*Batch Size*, *num_outputs*). Shortcut option: you can use classes from the [TensorFlow Layers](https://www.tensorflow.org/api_docs/python/tf/layers) or [TensorFlow Layers (contrib)](https://www.tensorflow.org/api_guides/python/contrib.layers) packages for this layer. For more of a challenge, only use other TensorFlow packages."
   ]
  },
  {
   "cell_type": "code",
   "execution_count": 30,
   "metadata": {
    "collapsed": false,
    "deletable": true,
    "editable": true
   },
   "outputs": [
    {
     "name": "stdout",
     "output_type": "stream",
     "text": [
      "Tests Passed\n"
     ]
    }
   ],
   "source": [
    "def fully_conn(x_tensor, num_outputs):\n",
    "    \"\"\"\n",
    "    Apply a fully connected layer to x_tensor using weight and bias\n",
    "    : x_tensor: A 2-D tensor where the first dimension is batch size.\n",
    "    : num_outputs: The number of output that the new tensor should be.\n",
    "    : return: A 2-D tensor where the second dimension is num_outputs.\n",
    "    \"\"\"\n",
    "    # TODO: Implement Function\n",
    "    num_of_features = x_tensor.shape[1].value\n",
    "    weights = tf.Variable(tf.random_normal([num_of_features, num_outputs], stddev=0.1))\n",
    "    biases = tf.Variable(tf.zeros([num_outputs]))\n",
    "    fully_connected_layer = tf.add(tf.matmul(x_tensor, weights), biases)\n",
    "    fully_connected_layer = tf.nn.relu(fully_connected_layer)\n",
    "    return fully_connected_layer\n",
    "\"\"\"\n",
    "DON'T MODIFY ANYTHING IN THIS CELL THAT IS BELOW THIS LINE\n",
    "\"\"\"\n",
    "tests.test_fully_conn(fully_conn)"
   ]
  },
  {
   "cell_type": "markdown",
   "metadata": {
    "deletable": true,
    "editable": true
   },
   "source": [
    "### Output Layer\n",
    "Implement the `output` function to apply a fully connected layer to `x_tensor` with the shape (*Batch Size*, *num_outputs*). Shortcut option: you can use classes from the [TensorFlow Layers](https://www.tensorflow.org/api_docs/python/tf/layers) or [TensorFlow Layers (contrib)](https://www.tensorflow.org/api_guides/python/contrib.layers) packages for this layer. For more of a challenge, only use other TensorFlow packages.\n",
    "\n",
    "**Note:** Activation, softmax, or cross entropy should **not** be applied to this."
   ]
  },
  {
   "cell_type": "code",
   "execution_count": 31,
   "metadata": {
    "collapsed": false,
    "deletable": true,
    "editable": true
   },
   "outputs": [
    {
     "name": "stdout",
     "output_type": "stream",
     "text": [
      "Tests Passed\n"
     ]
    }
   ],
   "source": [
    "def output(x_tensor, num_outputs):\n",
    "    \"\"\"\n",
    "    Apply a output layer to x_tensor using weight and bias\n",
    "    : x_tensor: A 2-D tensor where the first dimension is batch size.\n",
    "    : num_outputs: The number of output that the new tensor should be.\n",
    "    : return: A 2-D tensor where the second dimension is num_outputs.\n",
    "    \"\"\"\n",
    "    # TODO: Implement Function\n",
    "    num_features = x_tensor.shape[1].value\n",
    "    weights = tf.Variable(tf.random_normal([num_features, num_outputs], stddev=0.1))\n",
    "    biases = tf.Variable(tf.zeros([num_outputs]))\n",
    "    output_layer = tf.add(tf.matmul(x_tensor, weights), biases)\n",
    "    return output_layer\n",
    "\"\"\"\n",
    "DON'T MODIFY ANYTHING IN THIS CELL THAT IS BELOW THIS LINE\n",
    "\"\"\"\n",
    "tests.test_output(output)"
   ]
  },
  {
   "cell_type": "markdown",
   "metadata": {
    "deletable": true,
    "editable": true
   },
   "source": [
    "### Create Convolutional Model\n",
    "Implement the function `conv_net` to create a convolutional neural network model. The function takes in a batch of images, `x`, and outputs logits.  Use the layers you created above to create this model:\n",
    "\n",
    "* Apply 1, 2, or 3 Convolution and Max Pool layers\n",
    "* Apply a Flatten Layer\n",
    "* Apply 1, 2, or 3 Fully Connected Layers\n",
    "* Apply an Output Layer\n",
    "* Return the output\n",
    "* Apply [TensorFlow's Dropout](https://www.tensorflow.org/api_docs/python/tf/nn/dropout) to one or more layers in the model using `keep_prob`. "
   ]
  },
  {
   "cell_type": "code",
   "execution_count": 33,
   "metadata": {
    "collapsed": false,
    "deletable": true,
    "editable": true
   },
   "outputs": [
    {
     "name": "stdout",
     "output_type": "stream",
     "text": [
      "Neural Network Built!\n"
     ]
    }
   ],
   "source": [
    "def conv_net(x, keep_prob):\n",
    "    \"\"\"\n",
    "    Create a convolutional neural network model\n",
    "    : x: Placeholder tensor that holds image data.\n",
    "    : keep_prob: Placeholder tensor that hold dropout keep probability.\n",
    "    : return: Tensor that represents logits\n",
    "    \"\"\"\n",
    "    # TODO: Apply 1, 2, or 3 Convolution and Max Pool layers\n",
    "    #    Play around with different number of outputs, kernel size and stride\n",
    "    # Function Definition from Above:\n",
    "    #    conv2d_maxpool(x_tensor, conv_num_outputs, conv_ksize, conv_strides, pool_ksize, pool_strides)\n",
    "    x = conv2d_maxpool(x, 8, (4, 4), (1, 1), (2, 2), (2, 2))\n",
    "    x = conv2d_maxpool(x, 16, (4, 4), (1, 1), (2, 2), (2, 2))\n",
    "    x = conv2d_maxpool(x, 32, (4, 4), (1, 1), (2, 2), (2, 2))\n",
    "\n",
    "    # TODO: Apply a Flatten Layer\n",
    "    # Function Definition from Above:\n",
    "    #   flatten(x_tensor)\n",
    "    x = flatten(x)\n",
    "    \n",
    "\n",
    "    # TODO: Apply 1, 2, or 3 Fully Connected Layers\n",
    "    #    Play around with different number of outputs\n",
    "    # Function Definition from Above:\n",
    "    #   fully_conn(x_tensor, num_outputs)\n",
    "    x = fully_conn(x, 1024)\n",
    "    x = tf.nn.dropout(x, keep_prob=keep_prob)\n",
    "    x = fully_conn(x, 1024)\n",
    "    x = tf.nn.dropout(x, keep_prob=keep_prob)\n",
    "    \n",
    "    # TODO: Apply an Output Layer\n",
    "    #    Set this to the number of classes\n",
    "    # Function Definition from Above:\n",
    "    #   output(x_tensor, num_outputs)\n",
    "    x = output(x, 10)\n",
    "    \n",
    "    \n",
    "    # TODO: return output\n",
    "    return x\n",
    "\n",
    "\n",
    "\"\"\"\n",
    "DON'T MODIFY ANYTHING IN THIS CELL THAT IS BELOW THIS LINE\n",
    "\"\"\"\n",
    "\n",
    "##############################\n",
    "## Build the Neural Network ##\n",
    "##############################\n",
    "\n",
    "# Remove previous weights, bias, inputs, etc..\n",
    "tf.reset_default_graph()\n",
    "\n",
    "# Inputs\n",
    "x = neural_net_image_input((32, 32, 3))\n",
    "y = neural_net_label_input(10)\n",
    "keep_prob = neural_net_keep_prob_input()\n",
    "\n",
    "# Model\n",
    "logits = conv_net(x, keep_prob)\n",
    "\n",
    "# Name logits Tensor, so that is can be loaded from disk after training\n",
    "logits = tf.identity(logits, name='logits')\n",
    "\n",
    "# Loss and Optimizer\n",
    "cost = tf.reduce_mean(tf.nn.softmax_cross_entropy_with_logits(logits=logits, labels=y))\n",
    "optimizer = tf.train.AdamOptimizer().minimize(cost)\n",
    "\n",
    "# Accuracy\n",
    "correct_pred = tf.equal(tf.argmax(logits, 1), tf.argmax(y, 1))\n",
    "accuracy = tf.reduce_mean(tf.cast(correct_pred, tf.float32), name='accuracy')\n",
    "\n",
    "tests.test_conv_net(conv_net)"
   ]
  },
  {
   "cell_type": "markdown",
   "metadata": {
    "deletable": true,
    "editable": true
   },
   "source": [
    "## Train the Neural Network\n",
    "### Single Optimization\n",
    "Implement the function `train_neural_network` to do a single optimization.  The optimization should use `optimizer` to optimize in `session` with a `feed_dict` of the following:\n",
    "* `x` for image input\n",
    "* `y` for labels\n",
    "* `keep_prob` for keep probability for dropout\n",
    "\n",
    "This function will be called for each batch, so `tf.global_variables_initializer()` has already been called.\n",
    "\n",
    "Note: Nothing needs to be returned. This function is only optimizing the neural network."
   ]
  },
  {
   "cell_type": "code",
   "execution_count": 34,
   "metadata": {
    "collapsed": false,
    "deletable": true,
    "editable": true
   },
   "outputs": [
    {
     "name": "stdout",
     "output_type": "stream",
     "text": [
      "Tests Passed\n"
     ]
    }
   ],
   "source": [
    "def train_neural_network(session, optimizer, keep_probability, feature_batch, label_batch):\n",
    "    \"\"\"\n",
    "    Optimize the session on a batch of images and labels\n",
    "    : session: Current TensorFlow session\n",
    "    : optimizer: TensorFlow optimizer function\n",
    "    : keep_probability: keep probability\n",
    "    : feature_batch: Batch of Numpy image data\n",
    "    : label_batch: Batch of Numpy label data\n",
    "    \"\"\"\n",
    "    # TODO: Implement Function\n",
    "    session.run(optimizer, feed_dict={x: feature_batch, y: label_batch, keep_prob: keep_probability})\n",
    "\n",
    "\n",
    "\"\"\"\n",
    "DON'T MODIFY ANYTHING IN THIS CELL THAT IS BELOW THIS LINE\n",
    "\"\"\"\n",
    "tests.test_train_nn(train_neural_network)"
   ]
  },
  {
   "cell_type": "markdown",
   "metadata": {
    "deletable": true,
    "editable": true
   },
   "source": [
    "### Show Stats\n",
    "Implement the function `print_stats` to print loss and validation accuracy.  Use the global variables `valid_features` and `valid_labels` to calculate validation accuracy.  Use a keep probability of `1.0` to calculate the loss and validation accuracy."
   ]
  },
  {
   "cell_type": "code",
   "execution_count": 35,
   "metadata": {
    "collapsed": false,
    "deletable": true,
    "editable": true
   },
   "outputs": [],
   "source": [
    "def print_stats(session, feature_batch, label_batch, cost, accuracy):\n",
    "    \"\"\"\n",
    "    Print information about loss and validation accuracy\n",
    "    : session: Current TensorFlow session\n",
    "    : feature_batch: Batch of Numpy image data\n",
    "    : label_batch: Batch of Numpy label data\n",
    "    : cost: TensorFlow cost function\n",
    "    : accuracy: TensorFlow accuracy function\n",
    "    \"\"\"\n",
    "    # TODO: Implement Function\n",
    "    loss = session.run(cost, feed_dict={x:feature_batch, y:label_batch, keep_prob:1.0}) \n",
    "    acc = session.run(accuracy, feed_dict={x:valid_features, y:valid_labels, keep_prob:1.0})\n",
    "    print('Loss={0} ValidationAccuracy={1}'.format(loss, acc))"
   ]
  },
  {
   "cell_type": "markdown",
   "metadata": {
    "deletable": true,
    "editable": true
   },
   "source": [
    "### Hyperparameters\n",
    "Tune the following parameters:\n",
    "* Set `epochs` to the number of iterations until the network stops learning or start overfitting\n",
    "* Set `batch_size` to the highest number that your machine has memory for.  Most people set them to common sizes of memory:\n",
    " * 64\n",
    " * 128\n",
    " * 256\n",
    " * ...\n",
    "* Set `keep_probability` to the probability of keeping a node using dropout"
   ]
  },
  {
   "cell_type": "code",
   "execution_count": 36,
   "metadata": {
    "collapsed": true,
    "deletable": true,
    "editable": true
   },
   "outputs": [],
   "source": [
    "# TODO: Tune Parameters\n",
    "epochs = 30\n",
    "batch_size = 256\n",
    "keep_probability = 0.2"
   ]
  },
  {
   "cell_type": "markdown",
   "metadata": {
    "deletable": true,
    "editable": true
   },
   "source": [
    "### Train on a Single CIFAR-10 Batch\n",
    "Instead of training the neural network on all the CIFAR-10 batches of data, let's use a single batch. This should save time while you iterate on the model to get a better accuracy.  Once the final validation accuracy is 50% or greater, run the model on all the data in the next section."
   ]
  },
  {
   "cell_type": "code",
   "execution_count": 37,
   "metadata": {
    "collapsed": false,
    "deletable": true,
    "editable": true
   },
   "outputs": [
    {
     "name": "stdout",
     "output_type": "stream",
     "text": [
      "Checking the Training on a Single Batch...\n",
      "Epoch  1, CIFAR-10 Batch 1:  Loss=2.2864646911621094 ValidationAccuracy=0.17059999704360962\n",
      "Epoch  2, CIFAR-10 Batch 1:  Loss=2.2742409706115723 ValidationAccuracy=0.19740000367164612\n",
      "Epoch  3, CIFAR-10 Batch 1:  Loss=2.228654384613037 ValidationAccuracy=0.22200000286102295\n",
      "Epoch  4, CIFAR-10 Batch 1:  Loss=2.1305880546569824 ValidationAccuracy=0.23420000076293945\n",
      "Epoch  5, CIFAR-10 Batch 1:  Loss=2.0690836906433105 ValidationAccuracy=0.2773999869823456\n",
      "Epoch  6, CIFAR-10 Batch 1:  Loss=2.019275665283203 ValidationAccuracy=0.3303999900817871\n",
      "Epoch  7, CIFAR-10 Batch 1:  Loss=1.9482139348983765 ValidationAccuracy=0.3637999892234802\n",
      "Epoch  8, CIFAR-10 Batch 1:  Loss=1.874253273010254 ValidationAccuracy=0.362199991941452\n",
      "Epoch  9, CIFAR-10 Batch 1:  Loss=1.8010368347167969 ValidationAccuracy=0.3562000095844269\n",
      "Epoch 10, CIFAR-10 Batch 1:  Loss=1.7107540369033813 ValidationAccuracy=0.3806000053882599\n",
      "Epoch 11, CIFAR-10 Batch 1:  Loss=1.6934258937835693 ValidationAccuracy=0.3702000081539154\n",
      "Epoch 12, CIFAR-10 Batch 1:  Loss=1.6289470195770264 ValidationAccuracy=0.39660000801086426\n",
      "Epoch 13, CIFAR-10 Batch 1:  Loss=1.5666643381118774 ValidationAccuracy=0.39640000462532043\n",
      "Epoch 14, CIFAR-10 Batch 1:  Loss=1.4608783721923828 ValidationAccuracy=0.421999990940094\n",
      "Epoch 15, CIFAR-10 Batch 1:  Loss=1.3870089054107666 ValidationAccuracy=0.4156000018119812\n",
      "Epoch 16, CIFAR-10 Batch 1:  Loss=1.374686598777771 ValidationAccuracy=0.41940000653266907\n",
      "Epoch 17, CIFAR-10 Batch 1:  Loss=1.292783498764038 ValidationAccuracy=0.43140000104904175\n",
      "Epoch 18, CIFAR-10 Batch 1:  Loss=1.2516642808914185 ValidationAccuracy=0.4336000084877014\n",
      "Epoch 19, CIFAR-10 Batch 1:  Loss=1.2348713874816895 ValidationAccuracy=0.43860000371932983\n",
      "Epoch 20, CIFAR-10 Batch 1:  Loss=1.1739890575408936 ValidationAccuracy=0.43459999561309814\n",
      "Epoch 21, CIFAR-10 Batch 1:  Loss=1.1289936304092407 ValidationAccuracy=0.43479999899864197\n",
      "Epoch 22, CIFAR-10 Batch 1:  Loss=1.079223871231079 ValidationAccuracy=0.4607999920845032\n",
      "Epoch 23, CIFAR-10 Batch 1:  Loss=1.035611867904663 ValidationAccuracy=0.4564000070095062\n",
      "Epoch 24, CIFAR-10 Batch 1:  Loss=1.0257679224014282 ValidationAccuracy=0.4560000002384186\n",
      "Epoch 25, CIFAR-10 Batch 1:  Loss=0.9773708581924438 ValidationAccuracy=0.44600000977516174\n",
      "Epoch 26, CIFAR-10 Batch 1:  Loss=0.9629146456718445 ValidationAccuracy=0.43540000915527344\n",
      "Epoch 27, CIFAR-10 Batch 1:  Loss=0.9115093350410461 ValidationAccuracy=0.454800009727478\n",
      "Epoch 28, CIFAR-10 Batch 1:  Loss=0.9054825901985168 ValidationAccuracy=0.45879998803138733\n",
      "Epoch 29, CIFAR-10 Batch 1:  Loss=0.8616061210632324 ValidationAccuracy=0.46639999747276306\n",
      "Epoch 30, CIFAR-10 Batch 1:  Loss=0.8589966893196106 ValidationAccuracy=0.47099998593330383\n"
     ]
    }
   ],
   "source": [
    "\"\"\"\n",
    "DON'T MODIFY ANYTHING IN THIS CELL\n",
    "\"\"\"\n",
    "print('Checking the Training on a Single Batch...')\n",
    "with tf.Session() as sess:\n",
    "    # Initializing the variables\n",
    "    sess.run(tf.global_variables_initializer())\n",
    "    \n",
    "    # Training cycle\n",
    "    for epoch in range(epochs):\n",
    "        batch_i = 1\n",
    "        for batch_features, batch_labels in helper.load_preprocess_training_batch(batch_i, batch_size):\n",
    "            train_neural_network(sess, optimizer, keep_probability, batch_features, batch_labels)\n",
    "        print('Epoch {:>2}, CIFAR-10 Batch {}:  '.format(epoch + 1, batch_i), end='')\n",
    "        print_stats(sess, batch_features, batch_labels, cost, accuracy)"
   ]
  },
  {
   "cell_type": "markdown",
   "metadata": {
    "deletable": true,
    "editable": true
   },
   "source": [
    "### Fully Train the Model\n",
    "Now that you got a good accuracy with a single CIFAR-10 batch, try it with all five batches."
   ]
  },
  {
   "cell_type": "code",
   "execution_count": 38,
   "metadata": {
    "collapsed": false,
    "deletable": true,
    "editable": true
   },
   "outputs": [
    {
     "name": "stdout",
     "output_type": "stream",
     "text": [
      "Training...\n",
      "Epoch  1, CIFAR-10 Batch 1:  Loss=2.271954298019409 ValidationAccuracy=0.20919999480247498\n",
      "Epoch  1, CIFAR-10 Batch 2:  Loss=2.2636733055114746 ValidationAccuracy=0.2386000007390976\n",
      "Epoch  1, CIFAR-10 Batch 3:  Loss=2.0544323921203613 ValidationAccuracy=0.24879999458789825\n",
      "Epoch  1, CIFAR-10 Batch 4:  Loss=2.0176291465759277 ValidationAccuracy=0.2687999904155731\n",
      "Epoch  1, CIFAR-10 Batch 5:  Loss=2.0174050331115723 ValidationAccuracy=0.29580000042915344\n",
      "Epoch  2, CIFAR-10 Batch 1:  Loss=2.0351309776306152 ValidationAccuracy=0.3102000057697296\n",
      "Epoch  2, CIFAR-10 Batch 2:  Loss=1.9967418909072876 ValidationAccuracy=0.3431999981403351\n",
      "Epoch  2, CIFAR-10 Batch 3:  Loss=1.720471739768982 ValidationAccuracy=0.3709999918937683\n",
      "Epoch  2, CIFAR-10 Batch 4:  Loss=1.721960425376892 ValidationAccuracy=0.37400001287460327\n",
      "Epoch  2, CIFAR-10 Batch 5:  Loss=1.7969154119491577 ValidationAccuracy=0.38199999928474426\n",
      "Epoch  3, CIFAR-10 Batch 1:  Loss=1.871045470237732 ValidationAccuracy=0.39640000462532043\n",
      "Epoch  3, CIFAR-10 Batch 2:  Loss=1.7706025838851929 ValidationAccuracy=0.41119998693466187\n",
      "Epoch  3, CIFAR-10 Batch 3:  Loss=1.5095155239105225 ValidationAccuracy=0.4153999984264374\n",
      "Epoch  3, CIFAR-10 Batch 4:  Loss=1.6289374828338623 ValidationAccuracy=0.39559999108314514\n",
      "Epoch  3, CIFAR-10 Batch 5:  Loss=1.7003072500228882 ValidationAccuracy=0.41760000586509705\n",
      "Epoch  4, CIFAR-10 Batch 1:  Loss=1.7462266683578491 ValidationAccuracy=0.42419999837875366\n",
      "Epoch  4, CIFAR-10 Batch 2:  Loss=1.6177562475204468 ValidationAccuracy=0.43939998745918274\n",
      "Epoch  4, CIFAR-10 Batch 3:  Loss=1.397783875465393 ValidationAccuracy=0.4392000138759613\n",
      "Epoch  4, CIFAR-10 Batch 4:  Loss=1.4789795875549316 ValidationAccuracy=0.45100000500679016\n",
      "Epoch  4, CIFAR-10 Batch 5:  Loss=1.5688024759292603 ValidationAccuracy=0.45559999346733093\n",
      "Epoch  5, CIFAR-10 Batch 1:  Loss=1.4949966669082642 ValidationAccuracy=0.46320000290870667\n",
      "Epoch  5, CIFAR-10 Batch 2:  Loss=1.5219221115112305 ValidationAccuracy=0.4708000123500824\n",
      "Epoch  5, CIFAR-10 Batch 3:  Loss=1.3469423055648804 ValidationAccuracy=0.46939998865127563\n",
      "Epoch  5, CIFAR-10 Batch 4:  Loss=1.390458106994629 ValidationAccuracy=0.4706000089645386\n",
      "Epoch  5, CIFAR-10 Batch 5:  Loss=1.5093799829483032 ValidationAccuracy=0.4708000123500824\n",
      "Epoch  6, CIFAR-10 Batch 1:  Loss=1.4380104541778564 ValidationAccuracy=0.4745999872684479\n",
      "Epoch  6, CIFAR-10 Batch 2:  Loss=1.422982931137085 ValidationAccuracy=0.48420000076293945\n",
      "Epoch  6, CIFAR-10 Batch 3:  Loss=1.215413212776184 ValidationAccuracy=0.4950000047683716\n",
      "Epoch  6, CIFAR-10 Batch 4:  Loss=1.293697714805603 ValidationAccuracy=0.49140000343322754\n",
      "Epoch  6, CIFAR-10 Batch 5:  Loss=1.4076083898544312 ValidationAccuracy=0.48980000615119934\n",
      "Epoch  7, CIFAR-10 Batch 1:  Loss=1.2416763305664062 ValidationAccuracy=0.4984000027179718\n",
      "Epoch  7, CIFAR-10 Batch 2:  Loss=1.3080098628997803 ValidationAccuracy=0.49880000948905945\n",
      "Epoch  7, CIFAR-10 Batch 3:  Loss=1.119909644126892 ValidationAccuracy=0.49619999527931213\n",
      "Epoch  7, CIFAR-10 Batch 4:  Loss=1.2607369422912598 ValidationAccuracy=0.510200023651123\n",
      "Epoch  7, CIFAR-10 Batch 5:  Loss=1.3475979566574097 ValidationAccuracy=0.49559998512268066\n",
      "Epoch  8, CIFAR-10 Batch 1:  Loss=1.2117762565612793 ValidationAccuracy=0.5185999870300293\n",
      "Epoch  8, CIFAR-10 Batch 2:  Loss=1.219812035560608 ValidationAccuracy=0.5034000277519226\n",
      "Epoch  8, CIFAR-10 Batch 3:  Loss=1.1266177892684937 ValidationAccuracy=0.5139999985694885\n",
      "Epoch  8, CIFAR-10 Batch 4:  Loss=1.2068328857421875 ValidationAccuracy=0.51419997215271\n",
      "Epoch  8, CIFAR-10 Batch 5:  Loss=1.2243010997772217 ValidationAccuracy=0.5090000033378601\n",
      "Epoch  9, CIFAR-10 Batch 1:  Loss=1.1011213064193726 ValidationAccuracy=0.5257999897003174\n",
      "Epoch  9, CIFAR-10 Batch 2:  Loss=1.1562085151672363 ValidationAccuracy=0.5216000080108643\n",
      "Epoch  9, CIFAR-10 Batch 3:  Loss=1.0320802927017212 ValidationAccuracy=0.5238000154495239\n",
      "Epoch  9, CIFAR-10 Batch 4:  Loss=1.161128044128418 ValidationAccuracy=0.527400016784668\n",
      "Epoch  9, CIFAR-10 Batch 5:  Loss=1.187691569328308 ValidationAccuracy=0.5090000033378601\n",
      "Epoch 10, CIFAR-10 Batch 1:  Loss=1.0406630039215088 ValidationAccuracy=0.5437999963760376\n",
      "Epoch 10, CIFAR-10 Batch 2:  Loss=1.1198451519012451 ValidationAccuracy=0.5339999794960022\n",
      "Epoch 10, CIFAR-10 Batch 3:  Loss=1.0580946207046509 ValidationAccuracy=0.5338000059127808\n",
      "Epoch 10, CIFAR-10 Batch 4:  Loss=1.0912138223648071 ValidationAccuracy=0.5455999970436096\n",
      "Epoch 10, CIFAR-10 Batch 5:  Loss=1.0668652057647705 ValidationAccuracy=0.5311999917030334\n",
      "Epoch 11, CIFAR-10 Batch 1:  Loss=0.9933925867080688 ValidationAccuracy=0.5455999970436096\n",
      "Epoch 11, CIFAR-10 Batch 2:  Loss=1.0652467012405396 ValidationAccuracy=0.5461999773979187\n",
      "Epoch 11, CIFAR-10 Batch 3:  Loss=0.9195097088813782 ValidationAccuracy=0.5501999855041504\n",
      "Epoch 11, CIFAR-10 Batch 4:  Loss=1.0406529903411865 ValidationAccuracy=0.5422000288963318\n",
      "Epoch 11, CIFAR-10 Batch 5:  Loss=0.9485125541687012 ValidationAccuracy=0.5562000274658203\n",
      "Epoch 12, CIFAR-10 Batch 1:  Loss=0.9187335968017578 ValidationAccuracy=0.5609999895095825\n",
      "Epoch 12, CIFAR-10 Batch 2:  Loss=0.9691089391708374 ValidationAccuracy=0.5550000071525574\n",
      "Epoch 12, CIFAR-10 Batch 3:  Loss=0.9118086099624634 ValidationAccuracy=0.5490000247955322\n",
      "Epoch 12, CIFAR-10 Batch 4:  Loss=0.9595293998718262 ValidationAccuracy=0.5595999956130981\n",
      "Epoch 12, CIFAR-10 Batch 5:  Loss=0.9284113049507141 ValidationAccuracy=0.5522000193595886\n",
      "Epoch 13, CIFAR-10 Batch 1:  Loss=0.8996458053588867 ValidationAccuracy=0.5712000131607056\n",
      "Epoch 13, CIFAR-10 Batch 2:  Loss=0.9439054727554321 ValidationAccuracy=0.5669999718666077\n",
      "Epoch 13, CIFAR-10 Batch 3:  Loss=0.8523837327957153 ValidationAccuracy=0.5726000070571899\n",
      "Epoch 13, CIFAR-10 Batch 4:  Loss=0.9358644485473633 ValidationAccuracy=0.5770000219345093\n",
      "Epoch 13, CIFAR-10 Batch 5:  Loss=0.8589071035385132 ValidationAccuracy=0.5669999718666077\n",
      "Epoch 14, CIFAR-10 Batch 1:  Loss=0.8814665079116821 ValidationAccuracy=0.5809999704360962\n",
      "Epoch 14, CIFAR-10 Batch 2:  Loss=0.894081711769104 ValidationAccuracy=0.5784000158309937\n",
      "Epoch 14, CIFAR-10 Batch 3:  Loss=0.8455017805099487 ValidationAccuracy=0.573199987411499\n",
      "Epoch 14, CIFAR-10 Batch 4:  Loss=0.8774345517158508 ValidationAccuracy=0.5820000171661377\n",
      "Epoch 14, CIFAR-10 Batch 5:  Loss=0.8271635174751282 ValidationAccuracy=0.5767999887466431\n",
      "Epoch 15, CIFAR-10 Batch 1:  Loss=0.8622514605522156 ValidationAccuracy=0.5861999988555908\n",
      "Epoch 15, CIFAR-10 Batch 2:  Loss=0.8417059779167175 ValidationAccuracy=0.5831999778747559\n",
      "Epoch 15, CIFAR-10 Batch 3:  Loss=0.7723032832145691 ValidationAccuracy=0.5888000130653381\n",
      "Epoch 15, CIFAR-10 Batch 4:  Loss=0.8428902626037598 ValidationAccuracy=0.5928000211715698\n",
      "Epoch 15, CIFAR-10 Batch 5:  Loss=0.7799896001815796 ValidationAccuracy=0.5878000259399414\n",
      "Epoch 16, CIFAR-10 Batch 1:  Loss=0.7781007885932922 ValidationAccuracy=0.5878000259399414\n",
      "Epoch 16, CIFAR-10 Batch 2:  Loss=0.8220168948173523 ValidationAccuracy=0.5920000076293945\n",
      "Epoch 16, CIFAR-10 Batch 3:  Loss=0.7759310007095337 ValidationAccuracy=0.5874000191688538\n",
      "Epoch 16, CIFAR-10 Batch 4:  Loss=0.7695716023445129 ValidationAccuracy=0.5935999751091003\n",
      "Epoch 16, CIFAR-10 Batch 5:  Loss=0.7097585797309875 ValidationAccuracy=0.5952000021934509\n",
      "Epoch 17, CIFAR-10 Batch 1:  Loss=0.7768614888191223 ValidationAccuracy=0.6000000238418579\n",
      "Epoch 17, CIFAR-10 Batch 2:  Loss=0.7752837538719177 ValidationAccuracy=0.5898000001907349\n",
      "Epoch 17, CIFAR-10 Batch 3:  Loss=0.7326609492301941 ValidationAccuracy=0.6014000177383423\n",
      "Epoch 17, CIFAR-10 Batch 4:  Loss=0.7481704354286194 ValidationAccuracy=0.6051999926567078\n",
      "Epoch 17, CIFAR-10 Batch 5:  Loss=0.6748531460762024 ValidationAccuracy=0.5953999757766724\n",
      "Epoch 18, CIFAR-10 Batch 1:  Loss=0.7185283899307251 ValidationAccuracy=0.6064000129699707\n",
      "Epoch 18, CIFAR-10 Batch 2:  Loss=0.758548378944397 ValidationAccuracy=0.5934000015258789\n",
      "Epoch 18, CIFAR-10 Batch 3:  Loss=0.7091029286384583 ValidationAccuracy=0.5968000292778015\n",
      "Epoch 18, CIFAR-10 Batch 4:  Loss=0.6648459434509277 ValidationAccuracy=0.607200026512146\n",
      "Epoch 18, CIFAR-10 Batch 5:  Loss=0.6339751482009888 ValidationAccuracy=0.5935999751091003\n",
      "Epoch 19, CIFAR-10 Batch 1:  Loss=0.728064239025116 ValidationAccuracy=0.6087999939918518\n",
      "Epoch 19, CIFAR-10 Batch 2:  Loss=0.7542847394943237 ValidationAccuracy=0.6047999858856201\n",
      "Epoch 19, CIFAR-10 Batch 3:  Loss=0.6548160314559937 ValidationAccuracy=0.6129999756813049\n",
      "Epoch 19, CIFAR-10 Batch 4:  Loss=0.6495448350906372 ValidationAccuracy=0.614799976348877\n",
      "Epoch 19, CIFAR-10 Batch 5:  Loss=0.6117832064628601 ValidationAccuracy=0.6158000230789185\n",
      "Epoch 20, CIFAR-10 Batch 1:  Loss=0.7256491780281067 ValidationAccuracy=0.61080002784729\n",
      "Epoch 20, CIFAR-10 Batch 2:  Loss=0.6615954041481018 ValidationAccuracy=0.6100000143051147\n",
      "Epoch 20, CIFAR-10 Batch 3:  Loss=0.594922661781311 ValidationAccuracy=0.6208000183105469\n",
      "Epoch 20, CIFAR-10 Batch 4:  Loss=0.5750555396080017 ValidationAccuracy=0.6177999973297119\n",
      "Epoch 20, CIFAR-10 Batch 5:  Loss=0.561263918876648 ValidationAccuracy=0.6169999837875366\n",
      "Epoch 21, CIFAR-10 Batch 1:  Loss=0.6297493577003479 ValidationAccuracy=0.6133999824523926\n",
      "Epoch 21, CIFAR-10 Batch 2:  Loss=0.6236076951026917 ValidationAccuracy=0.6075999736785889\n",
      "Epoch 21, CIFAR-10 Batch 3:  Loss=0.592786431312561 ValidationAccuracy=0.6136000156402588\n",
      "Epoch 21, CIFAR-10 Batch 4:  Loss=0.5519808530807495 ValidationAccuracy=0.6186000108718872\n",
      "Epoch 21, CIFAR-10 Batch 5:  Loss=0.533826470375061 ValidationAccuracy=0.6194000244140625\n",
      "Epoch 22, CIFAR-10 Batch 1:  Loss=0.6612523198127747 ValidationAccuracy=0.61080002784729\n",
      "Epoch 22, CIFAR-10 Batch 2:  Loss=0.6058616638183594 ValidationAccuracy=0.6060000061988831\n",
      "Epoch 22, CIFAR-10 Batch 3:  Loss=0.5738016963005066 ValidationAccuracy=0.6187999844551086\n",
      "Epoch 22, CIFAR-10 Batch 4:  Loss=0.5064595937728882 ValidationAccuracy=0.6197999715805054\n",
      "Epoch 22, CIFAR-10 Batch 5:  Loss=0.549587070941925 ValidationAccuracy=0.6100000143051147\n",
      "Epoch 23, CIFAR-10 Batch 1:  Loss=0.6314082145690918 ValidationAccuracy=0.6086000204086304\n",
      "Epoch 23, CIFAR-10 Batch 2:  Loss=0.5983515977859497 ValidationAccuracy=0.6182000041007996\n",
      "Epoch 23, CIFAR-10 Batch 3:  Loss=0.5556593537330627 ValidationAccuracy=0.6187999844551086\n",
      "Epoch 23, CIFAR-10 Batch 4:  Loss=0.4683229923248291 ValidationAccuracy=0.629800021648407\n",
      "Epoch 23, CIFAR-10 Batch 5:  Loss=0.5036822557449341 ValidationAccuracy=0.6195999979972839\n",
      "Epoch 24, CIFAR-10 Batch 1:  Loss=0.6002475023269653 ValidationAccuracy=0.6155999898910522\n",
      "Epoch 24, CIFAR-10 Batch 2:  Loss=0.5681101083755493 ValidationAccuracy=0.6100000143051147\n",
      "Epoch 24, CIFAR-10 Batch 3:  Loss=0.510732889175415 ValidationAccuracy=0.6204000115394592\n",
      "Epoch 24, CIFAR-10 Batch 4:  Loss=0.4645373225212097 ValidationAccuracy=0.6227999925613403\n",
      "Epoch 24, CIFAR-10 Batch 5:  Loss=0.4922555387020111 ValidationAccuracy=0.618399977684021\n",
      "Epoch 25, CIFAR-10 Batch 1:  Loss=0.5570467114448547 ValidationAccuracy=0.618399977684021\n",
      "Epoch 25, CIFAR-10 Batch 2:  Loss=0.531509518623352 ValidationAccuracy=0.6226000189781189\n",
      "Epoch 25, CIFAR-10 Batch 3:  Loss=0.4862862229347229 ValidationAccuracy=0.6218000054359436\n",
      "Epoch 25, CIFAR-10 Batch 4:  Loss=0.4474009573459625 ValidationAccuracy=0.621999979019165\n",
      "Epoch 25, CIFAR-10 Batch 5:  Loss=0.4783352315425873 ValidationAccuracy=0.6123999953269958\n",
      "Epoch 26, CIFAR-10 Batch 1:  Loss=0.5718829035758972 ValidationAccuracy=0.6159999966621399\n",
      "Epoch 26, CIFAR-10 Batch 2:  Loss=0.5132642984390259 ValidationAccuracy=0.6141999959945679\n",
      "Epoch 26, CIFAR-10 Batch 3:  Loss=0.4697321057319641 ValidationAccuracy=0.6244000196456909\n",
      "Epoch 26, CIFAR-10 Batch 4:  Loss=0.3967248797416687 ValidationAccuracy=0.6338000297546387\n",
      "Epoch 26, CIFAR-10 Batch 5:  Loss=0.45889121294021606 ValidationAccuracy=0.6290000081062317\n",
      "Epoch 27, CIFAR-10 Batch 1:  Loss=0.5652348399162292 ValidationAccuracy=0.6226000189781189\n",
      "Epoch 27, CIFAR-10 Batch 2:  Loss=0.4863603711128235 ValidationAccuracy=0.6144000291824341\n",
      "Epoch 27, CIFAR-10 Batch 3:  Loss=0.47547703981399536 ValidationAccuracy=0.6186000108718872\n",
      "Epoch 27, CIFAR-10 Batch 4:  Loss=0.38708585500717163 ValidationAccuracy=0.6284000277519226\n",
      "Epoch 27, CIFAR-10 Batch 5:  Loss=0.413994699716568 ValidationAccuracy=0.6341999769210815\n",
      "Epoch 28, CIFAR-10 Batch 1:  Loss=0.4961972236633301 ValidationAccuracy=0.6294000148773193\n",
      "Epoch 28, CIFAR-10 Batch 2:  Loss=0.4886523187160492 ValidationAccuracy=0.626800000667572\n",
      "Epoch 28, CIFAR-10 Batch 3:  Loss=0.4265444874763489 ValidationAccuracy=0.6295999884605408\n",
      "Epoch 28, CIFAR-10 Batch 4:  Loss=0.3533303737640381 ValidationAccuracy=0.6320000290870667\n",
      "Epoch 28, CIFAR-10 Batch 5:  Loss=0.416377454996109 ValidationAccuracy=0.6291999816894531\n",
      "Epoch 29, CIFAR-10 Batch 1:  Loss=0.4954565167427063 ValidationAccuracy=0.6128000020980835\n",
      "Epoch 29, CIFAR-10 Batch 2:  Loss=0.4617813229560852 ValidationAccuracy=0.6263999938964844\n",
      "Epoch 29, CIFAR-10 Batch 3:  Loss=0.4068244993686676 ValidationAccuracy=0.6233999729156494\n",
      "Epoch 29, CIFAR-10 Batch 4:  Loss=0.349929541349411 ValidationAccuracy=0.6380000114440918\n",
      "Epoch 29, CIFAR-10 Batch 5:  Loss=0.37934210896492004 ValidationAccuracy=0.6304000020027161\n",
      "Epoch 30, CIFAR-10 Batch 1:  Loss=0.4695280194282532 ValidationAccuracy=0.6236000061035156\n",
      "Epoch 30, CIFAR-10 Batch 2:  Loss=0.45485687255859375 ValidationAccuracy=0.6236000061035156\n",
      "Epoch 30, CIFAR-10 Batch 3:  Loss=0.39822450280189514 ValidationAccuracy=0.633400022983551\n",
      "Epoch 30, CIFAR-10 Batch 4:  Loss=0.3175075948238373 ValidationAccuracy=0.6355999708175659\n",
      "Epoch 30, CIFAR-10 Batch 5:  Loss=0.3496131896972656 ValidationAccuracy=0.6341999769210815\n"
     ]
    }
   ],
   "source": [
    "\"\"\"\n",
    "DON'T MODIFY ANYTHING IN THIS CELL\n",
    "\"\"\"\n",
    "save_model_path = './image_classification'\n",
    "\n",
    "print('Training...')\n",
    "with tf.Session() as sess:\n",
    "    # Initializing the variables\n",
    "    sess.run(tf.global_variables_initializer())\n",
    "    \n",
    "    # Training cycle\n",
    "    for epoch in range(epochs):\n",
    "        # Loop over all batches\n",
    "        n_batches = 5\n",
    "        for batch_i in range(1, n_batches + 1):\n",
    "            for batch_features, batch_labels in helper.load_preprocess_training_batch(batch_i, batch_size):\n",
    "                train_neural_network(sess, optimizer, keep_probability, batch_features, batch_labels)\n",
    "            print('Epoch {:>2}, CIFAR-10 Batch {}:  '.format(epoch + 1, batch_i), end='')\n",
    "            print_stats(sess, batch_features, batch_labels, cost, accuracy)\n",
    "            \n",
    "    # Save Model\n",
    "    saver = tf.train.Saver()\n",
    "    save_path = saver.save(sess, save_model_path)"
   ]
  },
  {
   "cell_type": "markdown",
   "metadata": {
    "deletable": true,
    "editable": true
   },
   "source": [
    "# Checkpoint\n",
    "The model has been saved to disk.\n",
    "## Test Model\n",
    "Test your model against the test dataset.  This will be your final accuracy. You should have an accuracy greater than 50%. If you don't, keep tweaking the model architecture and parameters."
   ]
  },
  {
   "cell_type": "code",
   "execution_count": 39,
   "metadata": {
    "collapsed": false,
    "deletable": true,
    "editable": true
   },
   "outputs": [
    {
     "name": "stdout",
     "output_type": "stream",
     "text": [
      "Testing Accuracy: 0.6408203125\n",
      "\n"
     ]
    },
    {
     "data": {
      "image/png": "[encoded data removed]",
      "text/plain": [
       "<matplotlib.figure.Figure at 0x102f7bb00>"
      ]
     },
     "metadata": {
      "image/png": {
       "height": 319,
       "width": 355
      }
     },
     "output_type": "display_data"
    }
   ],
   "source": [
    "\"\"\"\n",
    "DON'T MODIFY ANYTHING IN THIS CELL\n",
    "\"\"\"\n",
    "%matplotlib inline\n",
    "%config InlineBackend.figure_format = 'retina'\n",
    "\n",
    "import tensorflow as tf\n",
    "import pickle\n",
    "import helper\n",
    "import random\n",
    "\n",
    "# Set batch size if not already set\n",
    "try:\n",
    "    if batch_size:\n",
    "        pass\n",
    "except NameError:\n",
    "    batch_size = 64\n",
    "\n",
    "save_model_path = './image_classification'\n",
    "n_samples = 4\n",
    "top_n_predictions = 3\n",
    "\n",
    "def test_model():\n",
    "    \"\"\"\n",
    "    Test the saved model against the test dataset\n",
    "    \"\"\"\n",
    "\n",
    "    test_features, test_labels = pickle.load(open('preprocess_training.p', mode='rb'))\n",
    "    loaded_graph = tf.Graph()\n",
    "\n",
    "    with tf.Session(graph=loaded_graph) as sess:\n",
    "        # Load model\n",
    "        loader = tf.train.import_meta_graph(save_model_path + '.meta')\n",
    "        loader.restore(sess, save_model_path)\n",
    "\n",
    "        # Get Tensors from loaded model\n",
    "        loaded_x = loaded_graph.get_tensor_by_name('x:0')\n",
    "        loaded_y = loaded_graph.get_tensor_by_name('y:0')\n",
    "        loaded_keep_prob = loaded_graph.get_tensor_by_name('keep_prob:0')\n",
    "        loaded_logits = loaded_graph.get_tensor_by_name('logits:0')\n",
    "        loaded_acc = loaded_graph.get_tensor_by_name('accuracy:0')\n",
    "        \n",
    "        # Get accuracy in batches for memory limitations\n",
    "        test_batch_acc_total = 0\n",
    "        test_batch_count = 0\n",
    "        \n",
    "        for train_feature_batch, train_label_batch in helper.batch_features_labels(test_features, test_labels, batch_size):\n",
    "            test_batch_acc_total += sess.run(\n",
    "                loaded_acc,\n",
    "                feed_dict={loaded_x: train_feature_batch, loaded_y: train_label_batch, loaded_keep_prob: 1.0})\n",
    "            test_batch_count += 1\n",
    "\n",
    "        print('Testing Accuracy: {}\\n'.format(test_batch_acc_total/test_batch_count))\n",
    "\n",
    "        # Print Random Samples\n",
    "        random_test_features, random_test_labels = tuple(zip(*random.sample(list(zip(test_features, test_labels)), n_samples)))\n",
    "        random_test_predictions = sess.run(\n",
    "            tf.nn.top_k(tf.nn.softmax(loaded_logits), top_n_predictions),\n",
    "            feed_dict={loaded_x: random_test_features, loaded_y: random_test_labels, loaded_keep_prob: 1.0})\n",
    "        helper.display_image_predictions(random_test_features, random_test_labels, random_test_predictions)\n",
    "\n",
    "\n",
    "test_model()"
   ]
  },
  {
   "cell_type": "markdown",
   "metadata": {
    "deletable": true,
    "editable": true
   },
   "source": [
    "## Why 50-80% Accuracy?\n",
    "You might be wondering why you can't get an accuracy any higher. First things first, 50% isn't bad for a simple CNN.  Pure guessing would get you 10% accuracy. That's because there are many more techniques that can be applied to your model and we recemmond that once you are done with this project, you explore!\n",
    "\n",
    "## Submitting This Project\n",
    "When submitting this project, make sure to run all the cells before saving the notebook.  Save the notebook file as \"image_classification.ipynb\" and save it as a HTML file under \"File\" -> \"Download as\".  Include the \"helper.py\" and \"problem_unittests.py\" files in your submission."
   ]
  }
 ],
 "metadata": {
  "kernelspec": {
   "display_name": "Python 3",
   "language": "python",
   "name": "python3"
  },
  "language_info": {
   "codemirror_mode": {
    "name": "ipython",
    "version": 3
   },
   "file_extension": ".py",
   "mimetype": "text/x-python",
   "name": "python",
   "nbconvert_exporter": "python",
   "pygments_lexer": "ipython3",
   "version": "3.5.3"
  }
 },
 "nbformat": 4,
 "nbformat_minor": 0
}
